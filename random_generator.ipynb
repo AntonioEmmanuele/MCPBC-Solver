{
 "cells": [
  {
   "cell_type": "code",
   "execution_count": 25,
   "id": "f482bcaf",
   "metadata": {},
   "outputs": [],
   "source": [
    "import numpy as np\n",
    "import math\n",
    "test=1\n",
    "gen_100=1\n",
    "gen_150=1\n",
    "gen_200=1\n",
    "f_red=0.4\n",
    "r_max=0.3\n",
    "c_min,c_max=1,10\n",
    "w_min,w_max=1,10\n",
    "b_min_perc,b_max_perc=0.45,0.75"
   ]
  },
  {
   "cell_type": "code",
   "execution_count": 16,
   "id": "6d341674",
   "metadata": {},
   "outputs": [],
   "source": [
    "def instance_generator(dim_subsets,dim_ground_set,rmax,min_profit,max_profit,min_weight, max_weight,budget_min_perc,budget_max_perc):\n",
    "    # generate the coordinates for x and y points\n",
    "    points=np.random.rand(dim_ground_set,2)\n",
    "    # Select which points will be used for subset generation\n",
    "    sets_idx=np.random.randint(low=0, high=dim_ground_set-1, size=dim_subsets, dtype=int)\n",
    "    # generate the reward\n",
    "    ground_set_profits=np.random.randint(low=min_profit, high=max_profit, size=dim_ground_set, dtype=int)\n",
    "    # generate the weights for each subset\n",
    "    subsets_weights=np.random.randint(low=min_weight, high=max_weight, size=dim_subsets, dtype=int)\n",
    "    # the real ground set\n",
    "    ground_set= np.arange(0,dim_ground_set)\n",
    "    \n",
    "    # for each set, insert an element from the ground set that satisfies euclidean_distance(set,element)<=rmax\n",
    "    subsets=[[] for _ in range(dim_subsets)]\n",
    "    element_inserted=ground_set.copy()\n",
    "    distance_matrix = np.zeros((dim_ground_set, dim_subsets)) #distance from element to subset\n",
    "    for st in range(dim_subsets):\n",
    "        # find the nearest points\n",
    "        for el in range(dim_ground_set):\n",
    "            distance_matrix[el][st]= np.sqrt(np.square(points[el][0]-points[sets_idx[st]][0])+np.square(points[el][1]-points[sets_idx[st]][1]))\n",
    "            if distance_matrix[el][st]<= rmax:\n",
    "                subsets[st].append(el)\n",
    "                element_inserted=np.delete(element_inserted,np.where(element_inserted==el))\n",
    "    # for each element in the subset not inserted \n",
    "    for el in element_inserted:\n",
    "        minimum=distance_matrix[el].argmin()\n",
    "        subsets[minimum].append(el)\n",
    "        \n",
    "    mx,maximum_capacity,random_multiplier=max(subsets_weights),0,0\n",
    "    \n",
    "    while maximum_capacity< mx:           \n",
    "        # for each point in any subset then try to insert it in his nearest subset\n",
    "        random_multiplier=np.random.uniform(low=budget_min_perc,high=budget_max_perc)\n",
    "        #print(random_multiplier,sum(subsets_weights))\n",
    "        maximum_capacity=math.ceil(sum(subsets_weights)*random_multiplier)\n",
    "    \n",
    "    return (subsets,subsets_weights,ground_set_profits,ground_set,maximum_capacity)\n"
   ]
  },
  {
   "cell_type": "code",
   "execution_count": 17,
   "id": "86624455",
   "metadata": {},
   "outputs": [],
   "source": [
    "# File composition:\n",
    "# |Ground Set| |Subsets| Budget\n",
    "# Objects Value \\n ( for each obj)\n",
    "# SubID SubWeight NumObjInSub  \\n (for each sub)\n",
    "# list of objs in the sub\n",
    "\n",
    "def genTXT(subsets,subsets_weights,ground_set_profits,ground_set,maximum_capacity,fileLocation):\n",
    "     with open(fileLocation,'w') as file:\n",
    "            file.write(str(len(ground_set))+\" \"+str(len(subsets))+\" \"+str(maximum_capacity)+\"\\n\")\n",
    "            for obj in ground_set:\n",
    "                file.write(str(obj)+\" \"+ str(ground_set_profits[obj])+\"\\n\")\n",
    "            for sub in range(len(subsets)):\n",
    "                file.write(str(sub)+\" \" +str(subsets_weights[sub])+\" \"+str(len(subsets[sub]))+\"\\n\")\n",
    "                for obj in range(len(subsets[sub])):\n",
    "                            if obj<len(subsets[sub])-1:\n",
    "                                file.write(str(subsets[sub][obj])+\" \")\n",
    "                            else:\n",
    "                                file.write(str(subsets[sub][obj]))\n",
    "                file.write(\"\\n\")        \n",
    "                    \n",
    "     "
   ]
  },
  {
   "cell_type": "code",
   "execution_count": 19,
   "id": "fbabf699",
   "metadata": {},
   "outputs": [
    {
     "name": "stdout",
     "output_type": "stream",
     "text": [
      " G SET [0 1 2 3 4]\n",
      " SUBSET [[0, 2, 4], [3, 4, 1]]\n",
      "PROFITS [9 6 9 9 7]\n",
      "WEIGHTS [7 6]\n",
      "CAPACITY 8\n",
      "readed subsets [[0, 2, 4], [3, 4, 1]]\n",
      "readed profits [9 6 9 9 7]\n"
     ]
    }
   ],
   "source": [
    "if test:\n",
    "    (subsets,subsets_weights,ground_set_profits,ground_set,maximum_capacity)=instance_generator(2,5,0.3,1,10,1,10,0.45,0.75)\n",
    "    print(\" G SET\",ground_set)\n",
    "    print(\" SUBSET\",subsets)\n",
    "    print(\"PROFITS\",ground_set_profits)\n",
    "    print(\"WEIGHTS\",subsets_weights)\n",
    "    print(\"CAPACITY\",maximum_capacity)\n",
    "    genTXT(subsets,subsets_weights,ground_set_profits,ground_set,maximum_capacity,\"./instances/example.txt\")\n",
    "    #(s,p)=read_txt(\"./instances/example.txt\")\n",
    "    #print(\"readed subsets\",s)\n",
    "    #print(\"readed profits\",p)"
   ]
  },
  {
   "cell_type": "code",
   "execution_count": 20,
   "id": "aa05cfac",
   "metadata": {},
   "outputs": [
    {
     "name": "stdout",
     "output_type": "stream",
     "text": [
      "hi\n"
     ]
    }
   ],
   "source": [
    "if gen_100:\n",
    "    (subsets,subsets_weights,ground_set_profits,ground_set,maximum_capacity)=instance_generator(math.ceil(100*f_red),100,r_max,c_min,c_max,w_min,w_max,b_min_perc,b_max_perc)\n",
    "    genTXT(subsets,subsets_weights,ground_set_profits,ground_set,maximum_capacity,\"./instances/100_gset.txt\")\n",
    "    print(\"hi\")"
   ]
  },
  {
   "cell_type": "code",
   "execution_count": 28,
   "id": "f81b13c9",
   "metadata": {},
   "outputs": [
    {
     "name": "stdout",
     "output_type": "stream",
     "text": [
      "hi\n"
     ]
    }
   ],
   "source": [
    "if gen_150:\n",
    "    (subsets,subsets_weights,ground_set_profits,ground_set,maximum_capacity)=instance_generator(math.ceil(150*f_red),150,r_max,c_min,c_max,w_min,w_max,b_min_perc,b_max_perc)\n",
    "    genTXT(subsets,subsets_weights,ground_set_profits,ground_set,maximum_capacity,\"./instances/150_gset.txt\")\n",
    "    print(\"hi\")"
   ]
  },
  {
   "cell_type": "code",
   "execution_count": 29,
   "id": "4d71774c",
   "metadata": {},
   "outputs": [
    {
     "name": "stdout",
     "output_type": "stream",
     "text": [
      "hi\n"
     ]
    }
   ],
   "source": [
    "if gen_200:\n",
    "    (subsets,subsets_weights,ground_set_profits,ground_set,maximum_capacity)=instance_generator(math.ceil(200*f_red),200,r_max,c_min,c_max,w_min,w_max,b_min_perc,b_max_perc)\n",
    "    genTXT(subsets,subsets_weights,ground_set_profits,ground_set,maximum_capacity,\"./instances/200_gset.txt\")\n",
    "    print(\"hi\")"
   ]
  },
  {
   "cell_type": "code",
   "execution_count": 1,
   "id": "6a87653c",
   "metadata": {},
   "outputs": [
    {
     "name": "stdout",
     "output_type": "stream",
     "text": [
      "__main__\n"
     ]
    }
   ],
   "source": []
  },
  {
   "cell_type": "code",
   "execution_count": null,
   "id": "5d8a2f0a",
   "metadata": {},
   "outputs": [],
   "source": []
  }
 ],
 "metadata": {
  "kernelspec": {
   "display_name": "Python 3 (ipykernel)",
   "language": "python",
   "name": "python3"
  },
  "language_info": {
   "codemirror_mode": {
    "name": "ipython",
    "version": 3
   },
   "file_extension": ".py",
   "mimetype": "text/x-python",
   "name": "python",
   "nbconvert_exporter": "python",
   "pygments_lexer": "ipython3",
   "version": "3.10.4"
  }
 },
 "nbformat": 4,
 "nbformat_minor": 5
}
