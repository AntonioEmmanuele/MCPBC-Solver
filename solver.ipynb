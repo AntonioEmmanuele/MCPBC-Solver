{
 "cells": [
  {
   "cell_type": "code",
   "execution_count": 63,
   "id": "d16d5417",
   "metadata": {},
   "outputs": [],
   "source": [
    "import numpy as np\n",
    "test=1\n",
    "test_100=1\n",
    "test_150=1\n",
    "test_200=1"
   ]
  },
  {
   "cell_type": "code",
   "execution_count": 17,
   "id": "912d9434",
   "metadata": {},
   "outputs": [],
   "source": [
    "def read_txt(fileLocation):\n",
    "    with open(fileLocation,'r') as file:\n",
    "        dimGroundSet,dimSubset,maxBudget = [int(i) for i in file.readline().split()] \n",
    "        ground_set=np.zeros(dimGroundSet)\n",
    "        ground_set_profits=np.zeros(dimGroundSet)\n",
    "        for m in range(dimGroundSet):\n",
    "            ground_set[m],ground_set_profits[m] = [int(i) for i in file.readline().split()]\n",
    "        subsets=[[] for _ in range(dimSubset)]\n",
    "        subsets_weights=np.zeros(dimSubset)\n",
    "        obj_per_sub=0\n",
    "        subset_ids=np.zeros(dimSubset)\n",
    "        for m in range(dimSubset):\n",
    "            (subset_ids[m],subsets_weights[m],obj_per_sub)= [int(i) for i in file.readline().split()]\n",
    "            subsets[m]=[int(i) for i in file.readline().split()]\n",
    "        return (subsets,subsets_weights.astype(int),ground_set_profits.astype(int),maxBudget)"
   ]
  },
  {
   "cell_type": "code",
   "execution_count": 43,
   "id": "d28fd1a7",
   "metadata": {},
   "outputs": [],
   "source": [
    "# calculate the score of a subset\n",
    "def calcSubsetScore(subsetID,subsetWeight,subsetObjs,subsetPerObj,objScores):\n",
    "    # Score= Sum of Value of Objects ( not yet added) /weight of the subset\n",
    "    score=0\n",
    "    for obj in subsetObjs: \n",
    "        if len(subsetPerObj[obj])==0:\n",
    "            score+=objScores[obj]\n",
    "    return score/subsetWeight[subsetID]\n"
   ]
  },
  {
   "cell_type": "code",
   "execution_count": 61,
   "id": "461ba607",
   "metadata": {},
   "outputs": [],
   "source": [
    "# until we have budget ( remaining_budget> max(not selected subsets)) \n",
    "#  Find the best subset \n",
    "#  Update the score the solution and budget\n",
    "def greedy(subsets,subsetWeights,objScores, budget):\n",
    "    # generate the list of all the subsets\n",
    "    subset_ids=np.arange(0,len(subsets))\n",
    "    #print(type(subset_ids[0]))\n",
    "    # last element == the most expensive \n",
    "    subset_ids.sort()\n",
    "    # init the map of sunsets per objects\n",
    "    subsetPerObj={}\n",
    "    remaining_budget=budget\n",
    "    for obj in range(len(objScores)):\n",
    "        subsetPerObj[obj]=[]\n",
    "    # init the score\n",
    "    score=0\n",
    "    #init the solution( the list of selected subs)\n",
    "    solution=np.array([])\n",
    "    # helper vars\n",
    "    (best_score,best_sub,curr_score)=(-1,0,0)\n",
    "    while 1:\n",
    "       \n",
    "        for sub in subset_ids:\n",
    "            curr_score=calcSubsetScore(sub,subsetWeights,subsets[sub],subsetPerObj,objScores)\n",
    "            # if the score is better\n",
    "            if curr_score>best_score:\n",
    "                # update the score\n",
    "                best_score=curr_score\n",
    "                # save the id\n",
    "                best_sub=sub\n",
    "                \n",
    "        # update the score and the subs per book\n",
    "        for obj in subsets[best_sub]:\n",
    "            score+=objScores[obj]\n",
    "            subsetPerObj[obj].append(best_sub)\n",
    "        #insert the element in the solution\n",
    "        solution=np.append(solution,best_sub)\n",
    "        # remove the element\n",
    "        subset_ids=np.delete(subset_ids,np.where(subset_ids==best_sub))\n",
    "        # update the budg\n",
    "        budget-=subsetWeights[best_sub]\n",
    "        # stop if we've ended the subsets or the budget\n",
    "        if len(subset_ids)==0:\n",
    "            break\n",
    "        if budget<subset_ids[len(subset_ids)-1]:\n",
    "            break\n",
    "        return (score,subsetPerObj,solution.astype(int))\n",
    "    "
   ]
  },
  {
   "cell_type": "code",
   "execution_count": 62,
   "id": "146a57e7",
   "metadata": {},
   "outputs": [
    {
     "name": "stdout",
     "output_type": "stream",
     "text": [
      "[[0, 2, 4], [3, 4, 1]]\n",
      "[7 6]\n",
      "[9 6 9 9 7]\n",
      "8\n",
      " The greedy score 22\n",
      " The solution [1]\n",
      "Feasable solution\n"
     ]
    }
   ],
   "source": [
    "if test: # Non opt greedy, obviously, it is 0\n",
    "    (objPerSubset,subsetWeights,objScores,budget)=read_txt(\"./instances/example.txt\")\n",
    "    #print(objPerSubset)\n",
    "    #print(subsetWeights)\n",
    "    #print(objScores)\n",
    "    #print(budget)\n",
    "    (score,subsetPerObj,solution)=greedy(objPerSubset,subsetWeights,objScores,budget)\n",
    "    print(\" The greedy score\", score)\n",
    "    print(\" The solution\", solution)\n",
    "    tot_weig=sum(subsetWeights[s] for s in solution)\n",
    "    if tot_weig<=budget:\n",
    "        print(\"Feasable solution\")\n",
    "    else:\n",
    "        print(\"Infeasable\")"
   ]
  },
  {
   "cell_type": "code",
   "execution_count": 64,
   "id": "4cc146b5",
   "metadata": {},
   "outputs": [
    {
     "name": "stdout",
     "output_type": "stream",
     "text": [
      " The greedy score 114\n",
      "Feasable solution\n"
     ]
    }
   ],
   "source": [
    "if test_100:\n",
    "    (objPerSubset,subsetWeights,objScores,budget)=read_txt(\"./instances/100_gset.txt\")\n",
    "    (score,subsetPerObj,solution)=greedy(objPerSubset,subsetWeights,objScores,budget)\n",
    "    print(\" The greedy score\", score)\n",
    "    tot_weig=sum(subsetWeights[s] for s in solution)\n",
    "    if tot_weig<=budget:\n",
    "        print(\"Feasable solution\")\n",
    "    else:\n",
    "        print(\"Infeasable\")"
   ]
  },
  {
   "cell_type": "code",
   "execution_count": 66,
   "id": "148850f7",
   "metadata": {},
   "outputs": [
    {
     "name": "stdout",
     "output_type": "stream",
     "text": [
      " The greedy score 193\n",
      "Feasable solution\n"
     ]
    }
   ],
   "source": [
    "if test_150:\n",
    "    (objPerSubset,subsetWeights,objScores,budget)=read_txt(\"./instances/150_gset.txt\")\n",
    "    (score,subsetPerObj,solution)=greedy(objPerSubset,subsetWeights,objScores,budget)\n",
    "    print(\" The greedy score\", score)\n",
    "    tot_weig=sum(subsetWeights[s] for s in solution)\n",
    "    if tot_weig<=budget:\n",
    "        print(\"Feasable solution\")\n",
    "    else:\n",
    "        print(\"Infeasable\")"
   ]
  },
  {
   "cell_type": "code",
   "execution_count": 67,
   "id": "930aa63a",
   "metadata": {},
   "outputs": [
    {
     "name": "stdout",
     "output_type": "stream",
     "text": [
      " The greedy score 328\n",
      "Feasable solution\n"
     ]
    }
   ],
   "source": [
    "if test_200:\n",
    "    (objPerSubset,subsetWeights,objScores,budget)=read_txt(\"./instances/200_gset.txt\")\n",
    "    (score,subsetPerObj,solution)=greedy(objPerSubset,subsetWeights,objScores,budget)\n",
    "    print(\" The greedy score\", score)\n",
    "    tot_weig=sum(subsetWeights[s] for s in solution)\n",
    "    if tot_weig<=budget:\n",
    "        print(\"Feasable solution\")\n",
    "    else:\n",
    "        print(\"Infeasable\")"
   ]
  },
  {
   "cell_type": "code",
   "execution_count": null,
   "id": "b7ca9f81",
   "metadata": {},
   "outputs": [],
   "source": []
  }
 ],
 "metadata": {
  "kernelspec": {
   "display_name": "Python 3 (ipykernel)",
   "language": "python",
   "name": "python3"
  },
  "language_info": {
   "codemirror_mode": {
    "name": "ipython",
    "version": 3
   },
   "file_extension": ".py",
   "mimetype": "text/x-python",
   "name": "python",
   "nbconvert_exporter": "python",
   "pygments_lexer": "ipython3",
   "version": "3.10.4"
  }
 },
 "nbformat": 4,
 "nbformat_minor": 5
}
